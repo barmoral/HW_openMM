{
 "cells": [
  {
   "cell_type": "markdown",
   "metadata": {},
   "source": [
    "## Imports"
   ]
  },
  {
   "cell_type": "code",
   "execution_count": 1,
   "metadata": {},
   "outputs": [
    {
     "name": "stderr",
     "output_type": "stream",
     "text": [
      "/tmp/ipykernel_177217/3626084654.py:3: DeprecationWarning: \n",
      "Pyarrow will become a required dependency of pandas in the next major release of pandas (pandas 3.0),\n",
      "(to allow more performant data types, such as the Arrow string type, and better interoperability with other libraries)\n",
      "but was not found to be installed on your system.\n",
      "If this would cause problems for you,\n",
      "please provide us feedback at https://github.com/pandas-dev/pandas/issues/54466\n",
      "        \n",
      "  import pandas as pd\n",
      "Warning on use of the timeseries module: If the inherent timescales of the system are long compared to those being analyzed, this statistical inefficiency may be an underestimate.  The estimate presumes the use of many statistically independent samples.  Tests should be performed to assess whether this condition is satisfied.   Be cautious in the interpretation of the data.\n",
      "\n",
      "****** PyMBAR will use 64-bit JAX! *******\n",
      "* JAX is currently set to 32-bit bitsize *\n",
      "* which is its default.                  *\n",
      "*                                        *\n",
      "* PyMBAR requires 64-bit mode and WILL   *\n",
      "* enable JAX's 64-bit mode when called.  *\n",
      "*                                        *\n",
      "* This MAY cause problems with other     *\n",
      "* Uses of JAX in the same code.          *\n",
      "******************************************\n",
      "\n"
     ]
    }
   ],
   "source": [
    "import MDAnalysis as mda\n",
    "import numpy as np\n",
    "import pandas as pd\n",
    "import matplotlib.pyplot as plt\n",
    "\n",
    "from MDAnalysis.lib.distances import distance_array\n",
    "from MDAnalysis import units\n",
    "from MDAnalysis.analysis import rdf\n",
    "\n",
    "from openmm.unit import Quantity, Unit\n",
    "from openmm.unit import kelvin, bar, litre, kilojoule_per_mole, mole, nanometer, angstrom, kilocalorie_per_mole\n",
    "from openmm.unit import AVOGADRO_CONSTANT_NA, BOLTZMANN_CONSTANT_kB\n",
    "R = BOLTZMANN_CONSTANT_kB * AVOGADRO_CONSTANT_NA # gas constant\n",
    "\n",
    "import quantities\n",
    "from matplotlib import colors\n",
    "from matplotlib.ticker import PercentFormatter\n",
    "from pymbar import timeseries\n",
    "from MDAnalysis.analysis import density\n",
    "from tqdm import tqdm\n",
    "import os\n",
    "import json\n"
   ]
  },
  {
   "cell_type": "markdown",
   "metadata": {},
   "source": [
    "## Set working directory"
   ]
  },
  {
   "cell_type": "code",
   "execution_count": 2,
   "metadata": {},
   "outputs": [],
   "source": [
    "# ffs=input(\"Which force fields? (Options: JC, CHARMM27)\")\n",
    "# os.chdir(\"/home/bamo6610/Documents/GROMACS_files/MDAnalysis/SPW_ALL/%s\"%ffs)\n",
    "\n",
    "os.chdir(\"/home/bamo6610/Documents/openff-dev/HW_openMM/OpenMM_sims_HPs/\")"
   ]
  },
  {
   "cell_type": "markdown",
   "metadata": {},
   "source": [
    "## Loading data and creating atom group of ions"
   ]
  },
  {
   "cell_type": "code",
   "execution_count": 3,
   "metadata": {},
   "outputs": [],
   "source": [
    "### 3.5 molal ##\n",
    "u= mda.Universe('md.pdb', 'md.xtc')\n",
    "u.transfer_to_memory()\n",
    "ions= u.select_atoms('resname NA CL')\n",
    "\n",
    "# u_r1 = mda.Universe('md.pdb', 'mdr1.xtc')\n",
    "# u_r1.transfer_to_memory()\n",
    "# ions_r1= u_r1.select_atoms('resname NA CL')\n",
    "\n",
    "# u_r2 = mda.Universe('mdr2.pdb', 'mdr2.xtc')\n",
    "# u_r2.transfer_to_memory()\n",
    "# ions_r2= u_r2.select_atoms('resname NA CL')\n",
    "\n",
    "# u_r3 = mda.Universe('mdr3.pdb', 'mdr3.xtc')\n",
    "# u_r3.transfer_to_memory()\n",
    "# ions_r3= u_r3.select_atoms('resname NA CL')\n",
    "\n",
    "# us_ = [u,u_r1,u_r2,u_r3]\n",
    "# ions_ = [ions,ions_r1,ions_r2,ions_r3]"
   ]
  },
  {
   "cell_type": "markdown",
   "metadata": {},
   "source": [
    "## Density profiles using MDanalysis"
   ]
  },
  {
   "cell_type": "code",
   "execution_count": 44,
   "metadata": {},
   "outputs": [],
   "source": [
    "def density_profile(universe, atom_group, bin_width=0.5, dim='z', method='res', frameby=1):\n",
    "    '''Calculate the partial density across the box'''\n",
    "\n",
    "    if isinstance(atom_group, str): # if provided selection language, make AtomGroup\n",
    "        ag = universe.select_atoms(atom_group)\n",
    "    else: # else assume input is AtomGroup\n",
    "        ag = atom_group\n",
    "\n",
    "    print(f'\\nCalculating the partial density profile of {atom_group} in the {dim} dimension...')\n",
    "\n",
    "    dims = {'x': 0, 'y': 1, 'z': 2}\n",
    "    d = dims[dim]\n",
    "    box = universe.dimensions[d]\n",
    "\n",
    "    n_bins = int(box / bin_width)\n",
    "    bins = np.linspace(0, box, num=n_bins)\n",
    "\n",
    "    counts = np.zeros(n_bins)\n",
    "        \n",
    "    if len(universe.trajectory) == 0:\n",
    "        for b in tqdm(range(n_bins-1)):\n",
    "            lb = bins[b]\n",
    "            ub = bins[b+1]\n",
    "            bin_atoms = universe.select_atoms(f'prop {dim} > {lb} and prop {dim} < {ub} and group ag', ag=ag)\n",
    "            if method in ['atom', 'atoms', 'all']:\n",
    "                counts[b] += len(bin_atoms)\n",
    "            elif method in ['molecule', 'mol', 'residue', 'res']: \n",
    "                counts[b] += bin_atoms.n_residues\n",
    "            elif method in ['mass', 'mass density']:\n",
    "                box_dims = [box[i] for i in range(3) if i != d]\n",
    "                dV = box_dims[0] * box_dims[1] * (ub-lb) * (10**-8)**3\n",
    "                mass = bin_atoms.masses.sum() / 6.022 / 10**23\n",
    "                counts[b] += mass / dV\n",
    "    else:\n",
    "        for ts in tqdm(universe.trajectory[::frameby]):\n",
    "            for b in range(n_bins-1):\n",
    "                lb = bins[b]\n",
    "                ub = bins[b+1]\n",
    "                bin_atoms = universe.select_atoms(f'prop {dim} > {lb} and prop {dim} < {ub} and group ag', ag=ag)\n",
    "\n",
    "                if method in ['atom', 'atoms', 'all', 'number']:\n",
    "                    counts[b] += len(bin_atoms)                 \n",
    "                elif method in ['molecule', 'mol', 'residue', 'res']: \n",
    "                    counts[b] += bin_atoms.n_residues\n",
    "                elif method in ['mass', 'mass density']:\n",
    "                    box_dims = [box[i] for i in range(3) if i != d]\n",
    "                    dV = box_dims[0] * box_dims[1] * (ub-lb) * (10**-8)**3\n",
    "                    mass = bin_atoms.masses.sum() / 6.022 / 10**23\n",
    "                    counts[b] += mass / dV\n",
    "\n",
    "        counts = counts / len(universe.trajectory[::frameby])\n",
    "\n",
    "    return bins, counts"
   ]
  },
  {
   "cell_type": "code",
   "execution_count": 45,
   "metadata": {},
   "outputs": [
    {
     "name": "stdout",
     "output_type": "stream",
     "text": [
      "\n",
      "Calculating the partial density profile of <AtomGroup [<Atom 11101: Na00 of type Na of resname NA, resid 1 and segid I and altLoc >, <Atom 11102: Na01 of type Na of resname NA, resid 1 and segid J and altLoc >, <Atom 11103: Na02 of type Na of resname NA, resid 1 and segid K and altLoc >, ..., <Atom 11474: Cl18 of type Cl of resname CL, resid 1 and segid R and altLoc >, <Atom 11475: Cl18 of type Cl of resname CL, resid 1 and segid S and altLoc >, <Atom 11476: Cl18 of type Cl of resname CL, resid 1 and segid T and altLoc >]> in the z dimension...\n"
     ]
    },
    {
     "name": "stderr",
     "output_type": "stream",
     "text": [
      "  0%|          | 0/250 [00:00<?, ?it/s]"
     ]
    },
    {
     "name": "stderr",
     "output_type": "stream",
     "text": [
      "100%|██████████| 250/250 [02:47<00:00,  1.49it/s]\n"
     ]
    }
   ],
   "source": [
    "nbins,ncounts=density_profile(u,ions)\n",
    "# nbins1,ncounts1=density_profile(u1,ions1,2)\n",
    "# nbins2,ncounts2=density_profile(u2,ions2,2)\n",
    "# nbins3,ncounts3=density_profile(u3,ions3,2)"
   ]
  },
  {
   "cell_type": "markdown",
   "metadata": {},
   "source": [
    "### Density plots"
   ]
  },
  {
   "cell_type": "code",
   "execution_count": 46,
   "metadata": {},
   "outputs": [
    {
     "name": "stdout",
     "output_type": "stream",
     "text": [
      "288\n",
      "288\n"
     ]
    }
   ],
   "source": [
    "print(len(nbins))\n",
    "print(len(ncounts))"
   ]
  },
  {
   "cell_type": "code",
   "execution_count": 62,
   "metadata": {},
   "outputs": [
    {
     "data": {
      "image/png": "[encoded data removed]",
      "text/plain": [
       "<Figure size 640x480 with 1 Axes>"
      ]
     },
     "metadata": {},
     "output_type": "display_data"
    }
   ],
   "source": [
    "# nb=144.4/288\n",
    "# volbin=48*48*nb*angstrom**3\n",
    "# counts=(ncounts/AVOGADRO_CONSTANT_NA)/volbin.in_units_of(litre)/2\n",
    "# counts1=(ncounts1/AVOGADRO_CONSTANT_NA)/volbin.in_units_of(litre)/2\n",
    "# counts2=(ncounts2/AVOGADRO_CONSTANT_NA)/volbin.in_units_of(litre)/2\n",
    "# counts3=(ncounts3/AVOGADRO_CONSTANT_NA)/volbin.in_units_of(litre)/2\n",
    "\n",
    "bins=nbins/10\n",
    "counts=ncounts\n",
    "# bins1=nbins1/10\n",
    "# bins2=nbins2/10\n",
    "# bins3=nbins3/10\n",
    "\n",
    "# print(counts)\n",
    "\n",
    "# plt.axvline(x = 4.8, color = 'gray', label = 'walls', linestyle = 'dashed')\n",
    "plt.axvline(x = 7.2, color = 'gray', linestyle = 'dashed')\n",
    "plt.axhline(y = 3, color = 'lightgray', linestyle = 'dashed')\n",
    "plt.plot(bins,counts, c='orange', label='original')\n",
    "# plt.plot(bins1[1:],counts1, c='g', label='rep1')\n",
    "# plt.plot(bins2[1:],counts2, c='c', label='rep2')\n",
    "# plt.plot(bins3[1:],counts3, c='m', label='rep3')\n",
    "\n",
    "plt.xlabel(\"Z coordinate (nm)\")\n",
    "plt.ylabel(\"Concentration (mol/L)\")\n",
    "plt.title(\"Concentration profile of HW OpenMM\")\n",
    "plt.legend()\n",
    "plt.show()"
   ]
  },
  {
   "cell_type": "code",
   "execution_count": 63,
   "metadata": {},
   "outputs": [
    {
     "data": {
      "text/plain": [
       "array([ 0.        ,  0.050177  ,  0.100354  ,  0.15053101,  0.20070801,\n",
       "        0.25088501,  0.30106201,  0.35123901,  0.40141602,  0.45159302,\n",
       "        0.50177002,  0.55194702,  0.60212402,  0.65230103,  0.70247803,\n",
       "        0.75265503,  0.80283203,  0.85300903,  0.90318604,  0.95336304,\n",
       "        1.00354004,  1.05371704,  1.10389404,  1.15407104,  1.20424805,\n",
       "        1.25442505,  1.30460205,  1.35477905,  1.40495605,  1.45513306,\n",
       "        1.50531006,  1.55548706,  1.60566406,  1.65584106,  1.70601807,\n",
       "        1.75619507,  1.80637207,  1.85654907,  1.90672607,  1.95690308,\n",
       "        2.00708008,  2.05725708,  2.10743408,  2.15761108,  2.20778809,\n",
       "        2.25796509,  2.30814209,  2.35831909,  2.40849609,  2.4586731 ,\n",
       "        2.5088501 ,  2.5590271 ,  2.6092041 ,  2.6593811 ,  2.70955811,\n",
       "        2.75973511,  2.80991211,  2.86008911,  2.91026611,  2.96044312,\n",
       "        3.01062012,  3.06079712,  3.11097412,  3.16115112,  3.21132813,\n",
       "        3.26150513,  3.31168213,  3.36185913,  3.41203613,  3.46221313,\n",
       "        3.51239014,  3.56256714,  3.61274414,  3.66292114,  3.71309814,\n",
       "        3.76327515,  3.81345215,  3.86362915,  3.91380615,  3.96398315,\n",
       "        4.01416016,  4.06433716,  4.11451416,  4.16469116,  4.21486816,\n",
       "        4.26504517,  4.31522217,  4.36539917,  4.41557617,  4.46575317,\n",
       "        4.51593018,  4.56610718,  4.61628418,  4.66646118,  4.71663818,\n",
       "        4.76681519,  4.81699219,  4.86716919,  4.91734619,  4.96752319,\n",
       "        5.0177002 ,  5.0678772 ,  5.1180542 ,  5.1682312 ,  5.2184082 ,\n",
       "        5.26858521,  5.31876221,  5.36893921,  5.41911621,  5.46929321,\n",
       "        5.51947021,  5.56964722,  5.61982422,  5.67000122,  5.72017822,\n",
       "        5.77035522,  5.82053223,  5.87070923,  5.92088623,  5.97106323,\n",
       "        6.02124023,  6.07141724,  6.12159424,  6.17177124,  6.22194824,\n",
       "        6.27212524,  6.32230225,  6.37247925,  6.42265625,  6.47283325,\n",
       "        6.52301025,  6.57318726,  6.62336426,  6.67354126,  6.72371826,\n",
       "        6.77389526,  6.82407227,  6.87424927,  6.92442627,  6.97460327,\n",
       "        7.02478027,  7.07495728,  7.12513428,  7.17531128,  7.22548828,\n",
       "        7.27566528,  7.32584229,  7.37601929,  7.42619629,  7.47637329,\n",
       "        7.52655029,  7.57672729,  7.6269043 ,  7.6770813 ,  7.7272583 ,\n",
       "        7.7774353 ,  7.8276123 ,  7.87778931,  7.92796631,  7.97814331,\n",
       "        8.02832031,  8.07849731,  8.12867432,  8.17885132,  8.22902832,\n",
       "        8.27920532,  8.32938232,  8.37955933,  8.42973633,  8.47991333,\n",
       "        8.53009033,  8.58026733,  8.63044434,  8.68062134,  8.73079834,\n",
       "        8.78097534,  8.83115234,  8.88132935,  8.93150635,  8.98168335,\n",
       "        9.03186035,  9.08203735,  9.13221436,  9.18239136,  9.23256836,\n",
       "        9.28274536,  9.33292236,  9.38309937,  9.43327637,  9.48345337,\n",
       "        9.53363037,  9.58380737,  9.63398438,  9.68416138,  9.73433838,\n",
       "        9.78451538,  9.83469238,  9.88486938,  9.93504639,  9.98522339,\n",
       "       10.03540039, 10.08557739, 10.13575439, 10.1859314 , 10.2361084 ,\n",
       "       10.2862854 , 10.3364624 , 10.3866394 , 10.43681641, 10.48699341,\n",
       "       10.53717041, 10.58734741, 10.63752441, 10.68770142, 10.73787842,\n",
       "       10.78805542, 10.83823242, 10.88840942, 10.93858643, 10.98876343,\n",
       "       11.03894043, 11.08911743, 11.13929443, 11.18947144, 11.23964844,\n",
       "       11.28982544, 11.34000244, 11.39017944, 11.44035645, 11.49053345,\n",
       "       11.54071045, 11.59088745, 11.64106445, 11.69124146, 11.74141846,\n",
       "       11.79159546, 11.84177246, 11.89194946, 11.94212646, 11.99230347,\n",
       "       12.04248047, 12.09265747, 12.14283447, 12.19301147, 12.24318848,\n",
       "       12.29336548, 12.34354248, 12.39371948, 12.44389648, 12.49407349,\n",
       "       12.54425049, 12.59442749, 12.64460449, 12.69478149, 12.7449585 ,\n",
       "       12.7951355 , 12.8453125 , 12.8954895 , 12.9456665 , 12.99584351,\n",
       "       13.04602051, 13.09619751, 13.14637451, 13.19655151, 13.24672852,\n",
       "       13.29690552, 13.34708252, 13.39725952, 13.44743652, 13.49761353,\n",
       "       13.54779053, 13.59796753, 13.64814453, 13.69832153, 13.74849854,\n",
       "       13.79867554, 13.84885254, 13.89902954, 13.94920654, 13.99938354,\n",
       "       14.04956055, 14.09973755, 14.14991455, 14.20009155, 14.25026855,\n",
       "       14.30044556, 14.35062256, 14.40079956])"
      ]
     },
     "execution_count": 63,
     "metadata": {},
     "output_type": "execute_result"
    }
   ],
   "source": [
    "bins"
   ]
  },
  {
   "cell_type": "code",
   "execution_count": 64,
   "metadata": {},
   "outputs": [],
   "source": [
    "data_to_save = np.column_stack((bins, counts))\n",
    "np.savetxt('density_test.txt', data_to_save, fmt='%.3f')"
   ]
  },
  {
   "cell_type": "code",
   "execution_count": null,
   "metadata": {},
   "outputs": [],
   "source": []
  }
 ],
 "metadata": {
  "kernelspec": {
   "display_name": "Python 3 (ipykernel)",
   "language": "python",
   "name": "python3"
  },
  "language_info": {
   "codemirror_mode": {
    "name": "ipython",
    "version": 3
   },
   "file_extension": ".py",
   "mimetype": "text/x-python",
   "name": "python",
   "nbconvert_exporter": "python",
   "pygments_lexer": "ipython3",
   "version": "3.10.13"
  }
 },
 "nbformat": 4,
 "nbformat_minor": 2
}
